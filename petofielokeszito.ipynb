{
  "nbformat": 4,
  "nbformat_minor": 0,
  "metadata": {
    "colab": {
      "provenance": []
    },
    "kernelspec": {
      "name": "python3",
      "display_name": "Python 3"
    },
    "language_info": {
      "name": "python"
    }
  },
  "cells": [
    {
      "cell_type": "markdown",
      "source": [
        "#A file letöltése"
      ],
      "metadata": {
        "id": "E2l7humJHspp"
      }
    },
    {
      "cell_type": "code",
      "execution_count": null,
      "metadata": {
        "colab": {
          "base_uri": "https://localhost:8080/"
        },
        "id": "TxplTarthlpN",
        "outputId": "d2d94075-ddb1-4c15-ef31-8fed2627bcdf"
      },
      "outputs": [
        {
          "output_type": "stream",
          "name": "stdout",
          "text": [
            "['JÁNOS VITÉZ.', '', 'I.', '', '  Tüzesen süt le a nyári nap sugára', '  Az ég tetejérol a juhászbojtárra.', '  Fölösleges dolog, sütnie oly nagyon,', '  A juhásznak úgy is nagy melege vagyon.', '', '  Szerelem tüze ég fiatal szivében,', '  Ugy legelteti a nyájt a faluvégen.', '  Faluvégen nyája mig szerte legelész,', '  O addig subáján a fuben heverész.', '', '  Tenger virág nyílik tarkán körülötte,', '  De o a virágra szemét nem vetette;', '  Egy kohajtásnyira foly tole a patak,', '  Bámuló szemei oda tapadtanak.', '', '  De nem ám a patak csillámló habjára,', '  Hanem a patakban egy szoke kis lyányra,', '  A szoke kis lyánynak karcsu termetére,', '  Szép hosszú hajára, gömbölyu keblére.', '', '  Kis leány szoknyája térdig föl van hajtva,', \"  Mivelhogy ruhákat mos a fris patakba';\", '  Kilátszik a vizbol két szép térdecskéje', '  Kukoricza Jancsi gyönyöruségére.', '', '  Mert a pázsit fölött heverészo juhász']\n",
            "1145175\n"
          ]
        }
      ],
      "source": [
        "import requests\n",
        "import re\n",
        "\n",
        "response = requests.get(\"https://www.gutenberg.org/cache/epub/41504/pg41504.txt\")\n",
        "\n",
        "# sikeres volt?\n",
        "if response.status_code == 200:\n",
        "    text_content = response.text\n",
        "else:\n",
        "    print(f\"Failed to retrieve the file. Status code: {response.status_code}\")\n",
        "\n",
        "kelt_regex = \"^\\([^)]+\\)$\"\n",
        "line_regex = \"^[ ]{2,}[^ ].*$\"\n",
        "\n",
        "original_lines = text_content.splitlines()[84:42420]\n",
        "print(original_lines[:30])\n",
        "\n",
        "# azért itt definiálom, hogy lefusson a kiiratás\n",
        "joined_text = []\n",
        "poems = []\n",
        "\n",
        "print(len(text_content))"
      ]
    },
    {
      "cell_type": "markdown",
      "source": [
        "# I. Verzió: folyó szöveg"
      ],
      "metadata": {
        "id": "ZiqXmGZXH5VC"
      }
    },
    {
      "cell_type": "code",
      "source": [
        "joined_text = []\n",
        "\n",
        "for line in original_lines:\n",
        "  if line.strip() == \"\":\n",
        "    if joined_text and joined_text[-1].strip() != \"\":\n",
        "      joined_text.append(\"\")\n",
        "  elif re.search(line_regex, line):\n",
        "    joined_text.append(line.strip())\n",
        "\n",
        "# karakterek szama (917302)\n",
        "print(len(\"\".join(joined_text)))\n",
        "# sorok szama (37682)\n",
        "print(len(joined_text))"
      ],
      "metadata": {
        "colab": {
          "base_uri": "https://localhost:8080/"
        },
        "id": "KEzyC2qYFLOL",
        "outputId": "ae66f3a4-ef5a-4622-88ab-dd232f9206e7"
      },
      "execution_count": null,
      "outputs": [
        {
          "output_type": "stream",
          "name": "stdout",
          "text": [
            "917302\n",
            "37682\n"
          ]
        }
      ]
    },
    {
      "cell_type": "markdown",
      "source": [
        "#II. Verzió: Struktúrált formátum"
      ],
      "metadata": {
        "id": "voKp6LtTIopj"
      }
    },
    {
      "cell_type": "markdown",
      "source": [
        "##Segéd funkciók"
      ],
      "metadata": {
        "id": "GnqnWdRtRkcH"
      }
    },
    {
      "cell_type": "code",
      "source": [
        "# segédkód a címek kezelésére\n",
        "# a cimből az utolsó pont utáni részt le kell venni, kivéve ha .. vagy ...-ra végződik.\n",
        "def smartsplit(input_string):\n",
        "    first_part, sep, _ = input_string.rpartition('.')\n",
        "    if (len(first_part) > 0 and first_part[-1] == '.'):\n",
        "        return first_part+sep\n",
        "    else:\n",
        "      return first_part if sep else input_string"
      ],
      "metadata": {
        "id": "SV-11ucNgTvA"
      },
      "execution_count": null,
      "outputs": []
    },
    {
      "cell_type": "code",
      "source": [
        "# versszakok szétvágása\n",
        "split_amounts = [8, 6, 5, 4]\n",
        "def split_verses_func(verse):\n",
        "  if len(verse) > 8:\n",
        "    for amount in split_amounts[:-1]:\n",
        "      if len(verse) % amount == 0:\n",
        "        return [\"\\n\".join(verse[i:i+amount]) for i in range(0, len(verse), amount)]\n",
        "    # if could not be split, just split it into groups of 4, and save the rest\n",
        "    return [\"\\n\".join(verse[i:i+split_amounts[-1]]) for i in range(0, len(verse), split_amounts[-1])]\n",
        "  else:\n",
        "    return [\"\\n\".join(verse)]"
      ],
      "metadata": {
        "id": "e_GCEYzo3vPY"
      },
      "execution_count": null,
      "outputs": []
    },
    {
      "cell_type": "markdown",
      "source": [
        "##Fő kód"
      ],
      "metadata": {
        "id": "9rC5cdfBRsTu"
      }
    },
    {
      "cell_type": "code",
      "source": [
        "verses = []\n",
        "verse = []\n",
        "poems = []\n",
        "original_poems = []\n",
        "space_count = 0\n",
        "\n",
        "# minden vers neve egyedi kell hogy legyen\n",
        "already_seen = set()\n",
        "\n",
        "for i, line in enumerate(original_lines):\n",
        "    # ha egy sor space, akkor ha volt előtte versszak, akkor elválaszt\n",
        "    if line.strip() == \"\":\n",
        "        space_count += 1\n",
        "        if verse:\n",
        "          verses.append(verse)\n",
        "          verse = []\n",
        "    else:\n",
        "      loop_at_edges = i == len(original_lines)-1 or i == 0\n",
        "      at_end_of_poem = re.search(kelt_regex, line.strip()) and original_lines[i+1] == \"\"\n",
        "\n",
        "      if space_count >= 2 or loop_at_edges or at_end_of_poem:\n",
        "          if verse:\n",
        "            verses.append(verse)\n",
        "\n",
        "          if verses:\n",
        "            if title not in already_seen:\n",
        "              original_verses = []\n",
        "              split_verses = []\n",
        "\n",
        "              for verse in verses:\n",
        "                original_verses.append(\"\\n\".join(verse))\n",
        "                split_verses.extend(split_verses_func(verse))\n",
        "              if re.search(kelt_regex, line.strip()):\n",
        "                origin = line.strip()[1:-2]\n",
        "              else:\n",
        "                origin = \"Ismeretlen\"\n",
        "\n",
        "              poems.append({\"title\": title, \"body\": split_verses, \"origin\": origin})\n",
        "              original_poems.append({\"title\": title, \"body\": original_verses, \"origin\": origin})\n",
        "\n",
        "            already_seen.add(title)\n",
        "\n",
        "          verses = []\n",
        "          verse = []\n",
        "          title = smartsplit(line.strip())\n",
        "      else:\n",
        "        if re.search(line_regex, line):\n",
        "          verse.append(\"  \"+ line.strip())\n",
        "        elif verse:\n",
        "          verses.append(verse)\n",
        "          verse = []\n",
        "      space_count = 0\n",
        "\n",
        "# 805-nek kell lennie\n",
        "print(len(poems))"
      ],
      "metadata": {
        "colab": {
          "base_uri": "https://localhost:8080/"
        },
        "id": "7n7hzchoNBMD",
        "outputId": "79f09c0c-b2b9-4c81-ac3c-312f056857f5"
      },
      "execution_count": null,
      "outputs": [
        {
          "output_type": "stream",
          "name": "stdout",
          "text": [
            "805\n"
          ]
        }
      ]
    },
    {
      "cell_type": "markdown",
      "source": [
        "#Megjelenítés"
      ],
      "metadata": {
        "id": "dRziyJNE-ZpF"
      }
    },
    {
      "cell_type": "code",
      "source": [
        "def to_roman_numeral(value):\n",
        "    roman_map = {                                   # 1\n",
        "        1: \"I\", 5: \"V\",\n",
        "        10: \"X\", 50: \"L\",\n",
        "        100: \"C\", 500: \"D\",\n",
        "        1000: \"M\",\n",
        "    }\n",
        "    result = \"\"\n",
        "    remainder = value\n",
        "\n",
        "    for i in sorted(roman_map.keys(), reverse=True):# 2\n",
        "        if remainder > 0:\n",
        "            multiplier = i\n",
        "            roman_digit = roman_map[i]\n",
        "\n",
        "            times = remainder // multiplier         # 3\n",
        "            remainder = remainder % multiplier      # 4\n",
        "            result += roman_digit * times           # 4\n",
        "\n",
        "    return result"
      ],
      "metadata": {
        "id": "Fee2WCzXyBgc"
      },
      "execution_count": null,
      "outputs": []
    },
    {
      "cell_type": "code",
      "source": [
        "def split_poems(poems):\n",
        "    split_poems_list = []\n",
        "    for poem in poems:\n",
        "        verses = poem[\"body\"]\n",
        "        for i in range(0, len(verses), 4):\n",
        "            # Create a new poem dictionary with at most 4 verses\n",
        "            new_poem = {\n",
        "                \"title\": poem[\"title\"] if \"title\" in poem else \"Untitled\",\n",
        "                \"author\": poem[\"author\"] if \"author\" in poem else \"Unknown\",\n",
        "                \"body\": verses[i:i+4]\n",
        "            }\n",
        "            split_poems_list.append(new_poem)\n",
        "    return split_poems_list\n",
        "\n",
        "split_delimiter = 4\n",
        "split_poems_list = []\n",
        "for poem in poems:\n",
        "  if len(poem[\"body\"]) > split_delimiter:\n",
        "    verses = poem[\"body\"]\n",
        "    for i in range(0, len(verses), split_delimiter):\n",
        "      split_poems_list.append({\"title\": poem[\"title\"] + ' ' + to_roman_numeral(i // split_delimiter), \"body\": verses[i:i+split_delimiter], \"origin\": poem[\"origin\"]})\n",
        "  else:\n",
        "    split_poems_list.append(poem)\n",
        "print(len(split_poems_list))"
      ],
      "metadata": {
        "colab": {
          "base_uri": "https://localhost:8080/"
        },
        "id": "tjx-C8_fufjp",
        "outputId": "ef43e265-5381-451f-cf5e-e64c79cae409"
      },
      "execution_count": null,
      "outputs": [
        {
          "output_type": "stream",
          "name": "stdout",
          "text": [
            "2032\n"
          ]
        }
      ]
    },
    {
      "cell_type": "code",
      "source": [
        "import numpy as np\n",
        "print(np.percentile([len('\\n'.join(poem[\"body\"]).splitlines()) for poem in poems], 95))"
      ],
      "metadata": {
        "colab": {
          "base_uri": "https://localhost:8080/"
        },
        "id": "cYGUeBB9Vr0S",
        "outputId": "bcade495-29f4-4719-9e88-f5f3f8d614b9"
      },
      "execution_count": null,
      "outputs": [
        {
          "output_type": "stream",
          "name": "stdout",
          "text": [
            "80.0\n"
          ]
        }
      ]
    },
    {
      "cell_type": "code",
      "source": [
        "print(len(poems))\n",
        "body_count = sum(len('\\n'.join(poem[\"body\"]).splitlines()) for poem in poems)\n",
        "\n",
        "verse_count = sum(len(poem[\"body\"]) for poem in poems)\n",
        "print(verse_count)\n",
        "\n",
        "filtered_body_count = sum(len('\\n'.join(poem[\"body\"]).splitlines()) for poem in poems if len('\\n'.join(poem[\"body\"]).splitlines()) > 80)\n",
        "\n",
        "print(body_count, filtered_body_count)"
      ],
      "metadata": {
        "colab": {
          "base_uri": "https://localhost:8080/"
        },
        "id": "bHrfi8NDU9XQ",
        "outputId": "9d975e0a-bd2e-495f-8107-9629343893db"
      },
      "execution_count": null,
      "outputs": [
        {
          "output_type": "stream",
          "name": "stdout",
          "text": [
            "805\n",
            "6827\n",
            "32120 11702\n"
          ]
        }
      ]
    },
    {
      "cell_type": "code",
      "source": [
        "for poem in split_poems_list[:100]:\n",
        "  print(poem[\"title\"])"
      ],
      "metadata": {
        "colab": {
          "base_uri": "https://localhost:8080/"
        },
        "id": "kAyp4jmPyM4E",
        "outputId": "6ee95115-2a13-40da-ce81-a96b9ff42418"
      },
      "execution_count": null,
      "outputs": [
        {
          "output_type": "stream",
          "name": "stdout",
          "text": [
            "JÁNOS VITÉZ \n",
            "JÁNOS VITÉZ I\n",
            "JÁNOS VITÉZ II\n",
            "JÁNOS VITÉZ III\n",
            "JÁNOS VITÉZ IIII\n",
            "JÁNOS VITÉZ V\n",
            "JÁNOS VITÉZ VI\n",
            "JÁNOS VITÉZ VII\n",
            "JÁNOS VITÉZ VIII\n",
            "JÁNOS VITÉZ VIIII\n",
            "JÁNOS VITÉZ X\n",
            "JÁNOS VITÉZ XI\n",
            "JÁNOS VITÉZ XII\n",
            "JÁNOS VITÉZ XIII\n",
            "JÁNOS VITÉZ XIIII\n",
            "JÁNOS VITÉZ XV\n",
            "JÁNOS VITÉZ XVI\n",
            "JÁNOS VITÉZ XVII\n",
            "JÁNOS VITÉZ XVIII\n",
            "JÁNOS VITÉZ XVIIII\n",
            "JÁNOS VITÉZ XX\n",
            "JÁNOS VITÉZ XXI\n",
            "JÁNOS VITÉZ XXII\n",
            "JÁNOS VITÉZ XXIII\n",
            "JÁNOS VITÉZ XXIIII\n",
            "JÁNOS VITÉZ XXV\n",
            "JÁNOS VITÉZ XXVI\n",
            "JÁNOS VITÉZ XXVII\n",
            "JÁNOS VITÉZ XXVIII\n",
            "JÁNOS VITÉZ XXVIIII\n",
            "JÁNOS VITÉZ XXX\n",
            "JÁNOS VITÉZ XXXI\n",
            "JÁNOS VITÉZ XXXII\n",
            "JÁNOS VITÉZ XXXIII\n",
            "JÁNOS VITÉZ XXXIIII\n",
            "JÁNOS VITÉZ XXXV\n",
            "JÁNOS VITÉZ XXXVI\n",
            "JÁNOS VITÉZ XXXVII\n",
            "JÁNOS VITÉZ XXXVIII\n",
            "JÁNOS VITÉZ XXXVIIII\n",
            "JÁNOS VITÉZ XXXX\n",
            "JÁNOS VITÉZ XXXXI\n",
            "JÁNOS VITÉZ XXXXII\n",
            "JÁNOS VITÉZ XXXXIII\n",
            "JÁNOS VITÉZ XXXXIIII\n",
            "JÁNOS VITÉZ XXXXV\n",
            "JÁNOS VITÉZ XXXXVI\n",
            "JÁNOS VITÉZ XXXXVII\n",
            "JÁNOS VITÉZ XXXXVIII\n",
            "JÁNOS VITÉZ XXXXVIIII\n",
            "JÁNOS VITÉZ L\n",
            "JÁNOS VITÉZ LI\n",
            "JÁNOS VITÉZ LII\n",
            "JÁNOS VITÉZ LIII\n",
            "JÁNOS VITÉZ LIIII\n",
            "JÁNOS VITÉZ LV\n",
            "JÁNOS VITÉZ LVI\n",
            "JÁNOS VITÉZ LVII\n",
            "JÁNOS VITÉZ LVIII\n",
            "JÁNOS VITÉZ LVIIII\n",
            "JÁNOS VITÉZ LX\n",
            "JÁNOS VITÉZ LXI\n",
            "JÁNOS VITÉZ LXII\n",
            "JÁNOS VITÉZ LXIII\n",
            "JÁNOS VITÉZ LXIIII\n",
            "JÁNOS VITÉZ LXV\n",
            "JÁNOS VITÉZ LXVI\n",
            "JÁNOS VITÉZ LXVII\n",
            "JÁNOS VITÉZ LXVIII\n",
            "JÁNOS VITÉZ LXVIIII\n",
            "JÁNOS VITÉZ LXX\n",
            "JÁNOS VITÉZ LXXI\n",
            "JÁNOS VITÉZ LXXII\n",
            "JÁNOS VITÉZ LXXIII\n",
            "JÁNOS VITÉZ LXXIIII\n",
            "JÁNOS VITÉZ LXXV\n",
            "JÁNOS VITÉZ LXXVI\n",
            "JÁNOS VITÉZ LXXVII\n",
            "JÁNOS VITÉZ LXXVIII\n",
            "JÁNOS VITÉZ LXXVIIII\n",
            "JÁNOS VITÉZ LXXX\n",
            "JÁNOS VITÉZ LXXXI\n",
            "JÁNOS VITÉZ LXXXII\n",
            "JÁNOS VITÉZ LXXXIII\n",
            "JÁNOS VITÉZ LXXXIIII\n",
            "JÁNOS VITÉZ LXXXV\n",
            "JÁNOS VITÉZ LXXXVI\n",
            "JÁNOS VITÉZ LXXXVII\n",
            "JÁNOS VITÉZ LXXXVIII\n",
            "JÁNOS VITÉZ LXXXVIIII\n",
            "JÁNOS VITÉZ LXXXX\n",
            "JÁNOS VITÉZ LXXXXI\n",
            "JÁNOS VITÉZ LXXXXII\n",
            "A HELYSÉG KALAPÁCSA \n",
            "A HELYSÉG KALAPÁCSA I\n",
            "A HELYSÉG KALAPÁCSA II\n",
            "A HELYSÉG KALAPÁCSA III\n",
            "A HELYSÉG KALAPÁCSA IIII\n",
            "A HELYSÉG KALAPÁCSA V\n",
            "A HELYSÉG KALAPÁCSA VI\n"
          ]
        }
      ]
    },
    {
      "cell_type": "code",
      "source": [
        "import math\n",
        "import numpy as np\n",
        "import matplotlib.pyplot as plt\n",
        "\n",
        "sum_list = sorted([sum([len(verse) for verse in poem[\"body\"]]) for poem in split_poems_list])\n",
        "\n",
        "percentile = np.percentile(sum_list, 87)\n",
        "print(percentile)\n",
        "plt.axhline(y = percentile, color = 'r', linestyle = 'dotted')\n",
        "plt.plot(sum_list)\n",
        "plt.title(\"Versek eloszlása sorszám szerint\")\n",
        "plt.grid()\n",
        "plt.show()"
      ],
      "metadata": {
        "colab": {
          "base_uri": "https://localhost:8080/",
          "height": 469
        },
        "id": "duhpMHbF-oo8",
        "outputId": "5beb0afa-6270-4d58-b779-8aabfcfb6501"
      },
      "execution_count": null,
      "outputs": [
        {
          "output_type": "stream",
          "name": "stdout",
          "text": [
            "698.94\n"
          ]
        },
        {
          "output_type": "display_data",
          "data": {
            "text/plain": [
              "<Figure size 640x480 with 1 Axes>"
            ],
            "image/png": "[encoded data removed]"
          },
          "metadata": {}
        }
      ]
    },
    {
      "cell_type": "code",
      "source": [
        "def display_pie_chart(list_of_poems, delimiter, title, base_color):\n",
        "\n",
        "  def autopct(pct):\n",
        "    return f'{pct:.1f}%' if pct > 2 else ''\n",
        "\n",
        "  length_list = {}\n",
        "\n",
        "  for poem in list_of_poems:\n",
        "    verse_length = len(poem[\"body\"][0].splitlines())\n",
        "    if verse_length in length_list:\n",
        "      length_list[verse_length] += 1\n",
        "    else:\n",
        "      length_list[verse_length] = 1\n",
        "\n",
        "  x = sorted(length_list.keys())[:delimiter]\n",
        "  y = [length_list[index] for index in x]\n",
        "\n",
        "  others_sum = sum(length_list[key] for key in sorted(length_list.keys())[delimiter:])\n",
        "  if (others_sum > 0):\n",
        "    x.append(f\"{x[-1]}+\")\n",
        "    y.append(others_sum)\n",
        "\n",
        "  x.reverse()\n",
        "  y.reverse()\n",
        "\n",
        "  max_value = max(y)\n",
        "  explode_list = [0.01 + float(value) * 0.0001 for value in y]\n",
        "  colors_list = [(*base_color[:3], min(1, 0.25 + (value / max_value) * 2)) for value in y]\n",
        "\n",
        "  plt.pie(\n",
        "    y,\n",
        "    labels=x,\n",
        "    autopct=lambda pct: autopct(pct),\n",
        "    startangle=90,\n",
        "    explode=explode_list,\n",
        "    colors=colors_list,\n",
        "    wedgeprops = {'linewidth': 0.7, 'antialiased': True}\n",
        "  )\n",
        "\n",
        "  plt.title(title)\n",
        "  plt.show()"
      ],
      "metadata": {
        "id": "SmIeGNLL7tLq"
      },
      "execution_count": null,
      "outputs": []
    },
    {
      "cell_type": "code",
      "source": [
        "import matplotlib.pyplot as plt\n",
        "from matplotlib.colors import to_rgba\n",
        "base_color = to_rgba((139 / 255, 177 / 255, 255 / 255, 1))\n",
        "\n",
        "display_pie_chart(original_poems, 7, \"Eredeti adathalmaz átlagos versszak hosszúsága\", base_color)\n",
        "display_pie_chart(poems, 7, \"Új adathalmaz átlagos versszak hosszúsága\", base_color)"
      ],
      "metadata": {
        "colab": {
          "base_uri": "https://localhost:8080/",
          "height": 843
        },
        "id": "AF3kid979NAF",
        "outputId": "765e2678-3be4-4d09-9847-a051b85a5759"
      },
      "execution_count": null,
      "outputs": [
        {
          "output_type": "display_data",
          "data": {
            "text/plain": [
              "<Figure size 640x480 with 1 Axes>"
            ],
            "image/png": "[encoded data removed]"
          },
          "metadata": {}
        },
        {
          "output_type": "display_data",
          "data": {
            "text/plain": [
              "<Figure size 640x480 with 1 Axes>"
            ],
            "image/png": "[encoded data removed]"
          },
          "metadata": {}
        }
      ]
    },
    {
      "cell_type": "markdown",
      "source": [
        "#Exportálás"
      ],
      "metadata": {
        "id": "VPoUrtFLS64R"
      }
    },
    {
      "cell_type": "code",
      "source": [
        "import json\n",
        "import os\n",
        "import shutil\n",
        "\n",
        "# Define a folder to store the output files\n",
        "output_folder = \"results\"\n",
        "\n",
        "# If the folder exists, delete it and all its contents\n",
        "if os.path.exists(output_folder):\n",
        "    shutil.rmtree(output_folder)\n",
        "\n",
        "# Create a fresh output folder\n",
        "os.makedirs(output_folder)\n",
        "\n",
        "# # I. Verzió mentése\n",
        "# if joined_text:\n",
        "#   print(len(joined_text))\n",
        "#   with open(os.path.join(output_folder, f\"Petofi_corpus_joined.txt\"), \"w\", encoding=\"utf-8\") as file:\n",
        "#     file.write(\"\\n\".join(joined_text))\n",
        "\n",
        "# # II. Verzió mentése\n",
        "# if poems:\n",
        "#   with open(os.path.join(output_folder, f\"Petofi_corpus.json\"), \"w\", encoding=\"utf-8\") as file:\n",
        "#     json.dump(poems, file, ensure_ascii=False)\n",
        "\n",
        "# II. Verzió mentése\n",
        "if split_poems_list:\n",
        "  with open(os.path.join(output_folder, f\"Petofi_corpus_split.json\"), \"w\", encoding=\"utf-8\") as file:\n",
        "    json.dump(split_poems_list, file, ensure_ascii=False)"
      ],
      "metadata": {
        "id": "BgP-A_LktrsN"
      },
      "execution_count": null,
      "outputs": []
    }
  ]
}